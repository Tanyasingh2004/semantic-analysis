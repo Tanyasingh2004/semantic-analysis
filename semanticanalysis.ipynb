from vaderSentiment.vaderSentiment import SentimentIntensityAnalyzer
import matplotlib.pyplot as plt
import pandas as pd

# Initialize sentiment analyzer
analyzer = SentimentIntensityAnalyzer()

# Sample customer feedback (can be loaded from a CSV file)
feedback_data = [
    "Amazing product. Totally worth the price!",
    "Very bad quality, it broke in two days.",
    "Delivery was late but the product is okay.",
    "Excellent customer support. Very satisfied.",
    "I’m happy with the service.",
    "Packaging was fine. Nothing special."
]

# Analyze sentiment
def classify_sentiment(text):
    score = analyzer.polarity_scores(text)['compound']
    if score >= 0.05:
        return 'Positive'
    elif score <= -0.05:
        return 'Negative'
    else:
        return 'Neutral'

# Create DataFrame for better handling
df = pd.DataFrame(feedback_data, columns=['Feedback'])
df['Sentiment'] = df['Feedback'].apply(classify_sentiment)

# Display individual results
print(" Individual Sentiment Analysis:\n")
for idx, row in df.iterrows():
    print(f"{idx+1}. \"{row['Feedback']}\" → {row['Sentiment']}")

# Summarize results
print("\n Sentiment Summary:")
summary = df['Sentiment'].value_counts()
print(summary)

# Visualize sentiment distribution
plt.figure(figsize=(6, 4))
summary.plot(kind='bar', color=['green', 'red', 'gray'])
plt.title('Customer Feedback Sentiment Distribution')
plt.xlabel('Sentiment')
plt.ylabel('Number of Comments')
plt.xticks(rotation=0)
plt.tight_layout()
plt.show()
